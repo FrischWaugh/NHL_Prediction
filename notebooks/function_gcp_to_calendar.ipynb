{
 "cells": [
  {
   "cell_type": "code",
   "execution_count": 12,
   "metadata": {},
   "outputs": [],
   "source": [
    "\"\"\"\n",
    "Home Win modelling\n",
    "\n",
    "create predictions and for the hockey data\n",
    "\n",
    "input:\n",
    "output:\n",
    "\"\"\"\n",
    "\n",
    "credential_keys = '/Users/antoinetl/Documents/code/Google Keys/My First Project-4938b2ab0dc6.json'"
   ]
  },
  {
   "cell_type": "code",
   "execution_count": 13,
   "metadata": {},
   "outputs": [],
   "source": [
    "# Load the data\n",
    "import json\n",
    "\n",
    "# Connexion GBQ\n",
    "import pandas_gbq\n",
    "from google.oauth2 import service_account\n",
    "\n",
    "def function_01():\n",
    "\n",
    "    credentials = service_account.Credentials.from_service_account_file(\n",
    "         credential_keys,\n",
    "        )\n",
    "    pandas_gbq.context.credentials = credentials\n",
    "    # https://pandas-gbq.readthedocs.io/en/latest/intro.html\n",
    "\n",
    "    # TODO: Set project_id to your Google Cloud Platform project ID.\n",
    "    project_id = \"rational-world-288611\"\n",
    "\n",
    "\n",
    "    sql = \"\"\"\n",
    "    SELECT *\n",
    "    from `My_dataset.final_pred` limit 100\n",
    "    \"\"\"\n",
    "    df = pandas_gbq.read_gbq(sql, project_id=project_id)\n",
    "\n",
    "    #df = df[(df['date'] > '2018-01-01') & (df['date'] <= '2018-01-10')]\n",
    "\n",
    "\n",
    "\n",
    "    result = df.to_json(orient=\"columns\")\n",
    "    parsed = json.loads(result)\n",
    "    oo = json.dumps(parsed, indent=4)  \n",
    "\n",
    "    return oo"
   ]
  },
  {
   "cell_type": "code",
   "execution_count": 16,
   "metadata": {},
   "outputs": [
    {
     "name": "stdout",
     "output_type": "stream",
     "text": [
      "2.0.9\n"
     ]
    }
   ],
   "source": [
    "print(json.__version__)"
   ]
  },
  {
   "cell_type": "code",
   "execution_count": 19,
   "metadata": {},
   "outputs": [
    {
     "name": "stdout",
     "output_type": "stream",
     "text": [
      "0.14.0\n"
     ]
    }
   ],
   "source": [
    "print(pandas_gbq.__version__)"
   ]
  },
  {
   "cell_type": "code",
   "execution_count": 23,
   "metadata": {},
   "outputs": [
    {
     "ename": "NameError",
     "evalue": "name 'google' is not defined",
     "output_type": "error",
     "traceback": [
      "\u001b[0;31m---------------------------------------------------------------------------\u001b[0m",
      "\u001b[0;31mNameError\u001b[0m                                 Traceback (most recent call last)",
      "\u001b[0;32m<ipython-input-23-bbe24e56430c>\u001b[0m in \u001b[0;36m<module>\u001b[0;34m\u001b[0m\n\u001b[0;32m----> 1\u001b[0;31m \u001b[0mprint\u001b[0m\u001b[0;34m(\u001b[0m\u001b[0mgoogle\u001b[0m\u001b[0;34m.\u001b[0m\u001b[0moauth2service_account\u001b[0m\u001b[0;34m.\u001b[0m\u001b[0m__version__\u001b[0m\u001b[0;34m)\u001b[0m\u001b[0;34m\u001b[0m\u001b[0;34m\u001b[0m\u001b[0m\n\u001b[0m",
      "\u001b[0;31mNameError\u001b[0m: name 'google' is not defined"
     ]
    }
   ],
   "source": []
  },
  {
   "cell_type": "code",
   "execution_count": null,
   "metadata": {},
   "outputs": [],
   "source": []
  }
 ],
 "metadata": {
  "kernelspec": {
   "display_name": "Python 3",
   "language": "python",
   "name": "python3"
  },
  "language_info": {
   "codemirror_mode": {
    "name": "ipython",
    "version": 3
   },
   "file_extension": ".py",
   "mimetype": "text/x-python",
   "name": "python",
   "nbconvert_exporter": "python",
   "pygments_lexer": "ipython3",
   "version": "3.8.5"
  }
 },
 "nbformat": 4,
 "nbformat_minor": 4
}
