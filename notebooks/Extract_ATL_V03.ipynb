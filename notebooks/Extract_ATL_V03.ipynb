{
 "cells": [
  {
   "cell_type": "code",
   "execution_count": 1,
   "metadata": {},
   "outputs": [],
   "source": [
    "import requests\n",
    "import numpy as np\n",
    "import pandas as pd\n",
    "from pandas.io.json import json_normalize"
   ]
  },
  {
   "cell_type": "code",
   "execution_count": null,
   "metadata": {},
   "outputs": [],
   "source": []
  },
  {
   "cell_type": "code",
   "execution_count": 2,
   "metadata": {},
   "outputs": [],
   "source": [
    "url =  'https://records.nhl.com/site/api/playoff-series?cayenneExp=seriesTitle=\"Stanley Cup Final\" and seasonId=20172018'"
   ]
  },
  {
   "cell_type": "code",
   "execution_count": 3,
   "metadata": {},
   "outputs": [],
   "source": [
    "r = requests.get(url)"
   ]
  },
  {
   "cell_type": "code",
   "execution_count": 4,
   "metadata": {},
   "outputs": [],
   "source": [
    "json_data = r.json()"
   ]
  },
  {
   "cell_type": "code",
   "execution_count": 5,
   "metadata": {},
   "outputs": [
    {
     "data": {
      "text/plain": [
       "dict"
      ]
     },
     "execution_count": 5,
     "metadata": {},
     "output_type": "execute_result"
    }
   ],
   "source": [
    "type(json_data)"
   ]
  },
  {
   "cell_type": "code",
   "execution_count": 6,
   "metadata": {},
   "outputs": [
    {
     "name": "stdout",
     "output_type": "stream",
     "text": [
      "dict_keys(['data', 'total'])\n"
     ]
    }
   ],
   "source": [
    "print(json_data.keys())"
   ]
  },
  {
   "cell_type": "code",
   "execution_count": 7,
   "metadata": {},
   "outputs": [
    {
     "name": "stdout",
     "output_type": "stream",
     "text": [
      "{\"data\":[{\"id\":7931,\"gameId\":2017030411,\"gameNumber\":411,\"gameTypeId\":3,\"gamesNeededToWin\":4,\"lengthOfSeries\":7,\"playoffRound\":4,\"playoffSeriesLetter\":\"O\",\"seasonId\":20172018,\"seriesTitle\":\"Stanley Cup Final\"},{\"id\":7932,\"gameId\":2017030412,\"gameNumber\":412,\"gameTypeId\":3,\"gamesNeededToWin\":4,\"lengthOfSeries\":7,\"playoffRound\":4,\"playoffSeriesLetter\":\"O\",\"seasonId\":20172018,\"seriesTitle\":\"Stanley Cup Final\"},{\"id\":7933,\"gameId\":2017030413,\"gameNumber\":413,\"gameTypeId\":3,\"gamesNeededToWin\":4,\"lengthOfSeries\":7,\"playoffRound\":4,\"playoffSeriesLetter\":\"O\",\"seasonId\":20172018,\"seriesTitle\":\"Stanley Cup Final\"},{\"id\":7934,\"gameId\":2017030414,\"gameNumber\":414,\"gameTypeId\":3,\"gamesNeededToWin\":4,\"lengthOfSeries\":7,\"playoffRound\":4,\"playoffSeriesLetter\":\"O\",\"seasonId\":20172018,\"seriesTitle\":\"Stanley Cup Final\"},{\"id\":7935,\"gameId\":2017030415,\"gameNumber\":415,\"gameTypeId\":3,\"gamesNeededToWin\":4,\"lengthOfSeries\":7,\"playoffRound\":4,\"playoffSeriesLetter\":\"O\",\"seasonId\":20172018,\"seriesTitle\":\"Stanley Cup Final\"}],\"total\":5}\n"
     ]
    }
   ],
   "source": [
    "print(r.text)"
   ]
  },
  {
   "cell_type": "code",
   "execution_count": 8,
   "metadata": {},
   "outputs": [],
   "source": [
    "records = json_data['data']"
   ]
  },
  {
   "cell_type": "code",
   "execution_count": 9,
   "metadata": {},
   "outputs": [
    {
     "data": {
      "text/plain": [
       "list"
      ]
     },
     "execution_count": 9,
     "metadata": {},
     "output_type": "execute_result"
    }
   ],
   "source": [
    "type(records)"
   ]
  },
  {
   "cell_type": "code",
   "execution_count": 10,
   "metadata": {},
   "outputs": [
    {
     "data": {
      "text/plain": [
       "{'id': 7932,\n",
       " 'gameId': 2017030412,\n",
       " 'gameNumber': 412,\n",
       " 'gameTypeId': 3,\n",
       " 'gamesNeededToWin': 4,\n",
       " 'lengthOfSeries': 7,\n",
       " 'playoffRound': 4,\n",
       " 'playoffSeriesLetter': 'O',\n",
       " 'seasonId': 20172018,\n",
       " 'seriesTitle': 'Stanley Cup Final'}"
      ]
     },
     "execution_count": 10,
     "metadata": {},
     "output_type": "execute_result"
    }
   ],
   "source": [
    "records[1]"
   ]
  },
  {
   "cell_type": "code",
   "execution_count": 11,
   "metadata": {},
   "outputs": [],
   "source": [
    "records = pd.DataFrame.from_dict(records)"
   ]
  },
  {
   "cell_type": "code",
   "execution_count": 12,
   "metadata": {},
   "outputs": [
    {
     "data": {
      "text/html": [
       "<div>\n",
       "<style scoped>\n",
       "    .dataframe tbody tr th:only-of-type {\n",
       "        vertical-align: middle;\n",
       "    }\n",
       "\n",
       "    .dataframe tbody tr th {\n",
       "        vertical-align: top;\n",
       "    }\n",
       "\n",
       "    .dataframe thead th {\n",
       "        text-align: right;\n",
       "    }\n",
       "</style>\n",
       "<table border=\"1\" class=\"dataframe\">\n",
       "  <thead>\n",
       "    <tr style=\"text-align: right;\">\n",
       "      <th></th>\n",
       "      <th>id</th>\n",
       "      <th>gameId</th>\n",
       "      <th>gameNumber</th>\n",
       "      <th>gameTypeId</th>\n",
       "      <th>gamesNeededToWin</th>\n",
       "      <th>lengthOfSeries</th>\n",
       "      <th>playoffRound</th>\n",
       "      <th>playoffSeriesLetter</th>\n",
       "      <th>seasonId</th>\n",
       "      <th>seriesTitle</th>\n",
       "    </tr>\n",
       "  </thead>\n",
       "  <tbody>\n",
       "    <tr>\n",
       "      <th>0</th>\n",
       "      <td>7931</td>\n",
       "      <td>2017030411</td>\n",
       "      <td>411</td>\n",
       "      <td>3</td>\n",
       "      <td>4</td>\n",
       "      <td>7</td>\n",
       "      <td>4</td>\n",
       "      <td>O</td>\n",
       "      <td>20172018</td>\n",
       "      <td>Stanley Cup Final</td>\n",
       "    </tr>\n",
       "    <tr>\n",
       "      <th>1</th>\n",
       "      <td>7932</td>\n",
       "      <td>2017030412</td>\n",
       "      <td>412</td>\n",
       "      <td>3</td>\n",
       "      <td>4</td>\n",
       "      <td>7</td>\n",
       "      <td>4</td>\n",
       "      <td>O</td>\n",
       "      <td>20172018</td>\n",
       "      <td>Stanley Cup Final</td>\n",
       "    </tr>\n",
       "    <tr>\n",
       "      <th>2</th>\n",
       "      <td>7933</td>\n",
       "      <td>2017030413</td>\n",
       "      <td>413</td>\n",
       "      <td>3</td>\n",
       "      <td>4</td>\n",
       "      <td>7</td>\n",
       "      <td>4</td>\n",
       "      <td>O</td>\n",
       "      <td>20172018</td>\n",
       "      <td>Stanley Cup Final</td>\n",
       "    </tr>\n",
       "    <tr>\n",
       "      <th>3</th>\n",
       "      <td>7934</td>\n",
       "      <td>2017030414</td>\n",
       "      <td>414</td>\n",
       "      <td>3</td>\n",
       "      <td>4</td>\n",
       "      <td>7</td>\n",
       "      <td>4</td>\n",
       "      <td>O</td>\n",
       "      <td>20172018</td>\n",
       "      <td>Stanley Cup Final</td>\n",
       "    </tr>\n",
       "    <tr>\n",
       "      <th>4</th>\n",
       "      <td>7935</td>\n",
       "      <td>2017030415</td>\n",
       "      <td>415</td>\n",
       "      <td>3</td>\n",
       "      <td>4</td>\n",
       "      <td>7</td>\n",
       "      <td>4</td>\n",
       "      <td>O</td>\n",
       "      <td>20172018</td>\n",
       "      <td>Stanley Cup Final</td>\n",
       "    </tr>\n",
       "  </tbody>\n",
       "</table>\n",
       "</div>"
      ],
      "text/plain": [
       "     id      gameId  gameNumber  gameTypeId  gamesNeededToWin  lengthOfSeries  \\\n",
       "0  7931  2017030411         411           3                 4               7   \n",
       "1  7932  2017030412         412           3                 4               7   \n",
       "2  7933  2017030413         413           3                 4               7   \n",
       "3  7934  2017030414         414           3                 4               7   \n",
       "4  7935  2017030415         415           3                 4               7   \n",
       "\n",
       "   playoffRound playoffSeriesLetter  seasonId        seriesTitle  \n",
       "0             4                   O  20172018  Stanley Cup Final  \n",
       "1             4                   O  20172018  Stanley Cup Final  \n",
       "2             4                   O  20172018  Stanley Cup Final  \n",
       "3             4                   O  20172018  Stanley Cup Final  \n",
       "4             4                   O  20172018  Stanley Cup Final  "
      ]
     },
     "execution_count": 12,
     "metadata": {},
     "output_type": "execute_result"
    }
   ],
   "source": [
    "records.head()"
   ]
  },
  {
   "cell_type": "code",
   "execution_count": 13,
   "metadata": {},
   "outputs": [
    {
     "name": "stdout",
     "output_type": "stream",
     "text": [
      "<class 'pandas.core.frame.DataFrame'>\n",
      "RangeIndex: 5 entries, 0 to 4\n",
      "Data columns (total 10 columns):\n",
      "id                     5 non-null int64\n",
      "gameId                 5 non-null int64\n",
      "gameNumber             5 non-null int64\n",
      "gameTypeId             5 non-null int64\n",
      "gamesNeededToWin       5 non-null int64\n",
      "lengthOfSeries         5 non-null int64\n",
      "playoffRound           5 non-null int64\n",
      "playoffSeriesLetter    5 non-null object\n",
      "seasonId               5 non-null int64\n",
      "seriesTitle            5 non-null object\n",
      "dtypes: int64(8), object(2)\n",
      "memory usage: 528.0+ bytes\n"
     ]
    }
   ],
   "source": [
    "records.info()"
   ]
  },
  {
   "cell_type": "code",
   "execution_count": null,
   "metadata": {},
   "outputs": [],
   "source": []
  }
 ],
 "metadata": {
  "kernelspec": {
   "display_name": "Python 3",
   "language": "python",
   "name": "python3"
  },
  "language_info": {
   "codemirror_mode": {
    "name": "ipython",
    "version": 3
   },
   "file_extension": ".py",
   "mimetype": "text/x-python",
   "name": "python",
   "nbconvert_exporter": "python",
   "pygments_lexer": "ipython3",
   "version": "3.6.5"
  }
 },
 "nbformat": 4,
 "nbformat_minor": 2
}
