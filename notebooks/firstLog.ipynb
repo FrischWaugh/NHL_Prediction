{
 "cells": [
  {
   "cell_type": "markdown",
   "metadata": {},
   "source": [
    "## This is the first notebook that will be used to explore data.\n",
    "### The doc about the NHL API can be found here : https://github.com/dword4/nhlapi"
   ]
  },
  {
   "cell_type": "code",
   "execution_count": 92,
   "metadata": {},
   "outputs": [],
   "source": [
    "import numpy as np\n",
    "import pandas as pd\n",
    "from pandas.io.json import json_normalize\n",
    "import requests\n",
    "import json"
   ]
  },
  {
   "cell_type": "code",
   "execution_count": 93,
   "metadata": {},
   "outputs": [],
   "source": [
    "def flatten_json(y):\n",
    "    \n",
    "    \"\"\" Flattens the JSON \"\"\"\n",
    "    \n",
    "    out = {}\n",
    "\n",
    "    def flatten(x, name=''):\n",
    "        if type(x) is dict:\n",
    "            for a in x:\n",
    "                flatten(x[a], name + a + '_')\n",
    "        elif type(x) is list:\n",
    "            i = 0\n",
    "            for a in x:\n",
    "                flatten(a, name + str(i) + '_')\n",
    "                i += 1\n",
    "        else:\n",
    "            out[name[:-1]] = x\n",
    "\n",
    "    flatten(y)\n",
    "    return out\n",
    "\n",
    "def extractSeason(season=2016):\n",
    "    \"\"\" Extract a particular season data (all teams) from NHL API \"\"\"\n",
    "    results = []\n",
    "    seasonEnd = season+1\n",
    "    url = 'https://statsapi.web.nhl.com/api/v1/standings?season={}{}'.format(season,seasonEnd)\n",
    "    r = requests.get(url)\n",
    "    season_data = r.json()\n",
    "    season_data = json.dumps(season_data)  #serialize dictionary to json\n",
    "    season_data = json.loads(season_data) #unserialize json to get dictionary\n",
    "\n",
    "    for x in range(0, 4):\n",
    "        flat = flatten_json(season_data[\"records\"][x][\"teamRecords\"])\n",
    "        flatten = json_normalize(season_data[\"records\"][x][\"teamRecords\"])\n",
    "        \n",
    "        results.append(flatten)\n",
    "\n",
    "    return results"
   ]
  },
  {
   "cell_type": "code",
   "execution_count": 94,
   "metadata": {},
   "outputs": [
    {
     "data": {
      "text/plain": [
       "(8, 30)"
      ]
     },
     "execution_count": 94,
     "metadata": {},
     "output_type": "execute_result"
    }
   ],
   "source": [
    "test = extractSeason()\n",
    "test[0].shape"
   ]
  },
  {
   "cell_type": "code",
   "execution_count": 95,
   "metadata": {},
   "outputs": [
    {
     "data": {
      "text/plain": [
       "(30, 30)"
      ]
     },
     "execution_count": 95,
     "metadata": {},
     "output_type": "execute_result"
    }
   ],
   "source": [
    "df = pd.concat(test[:])\n",
    "df.shape"
   ]
  },
  {
   "cell_type": "code",
   "execution_count": 96,
   "metadata": {},
   "outputs": [
    {
     "data": {
      "text/plain": [
       "[u'clinchIndicator',\n",
       " u'conferenceHomeRank',\n",
       " u'conferenceL10Rank',\n",
       " u'conferenceRank',\n",
       " u'conferenceRoadRank',\n",
       " u'divisionHomeRank',\n",
       " u'divisionL10Rank',\n",
       " u'divisionRank',\n",
       " u'divisionRoadRank',\n",
       " u'gamesPlayed',\n",
       " u'goalsAgainst',\n",
       " u'goalsScored',\n",
       " u'lastUpdated',\n",
       " u'leagueHomeRank',\n",
       " u'leagueL10Rank',\n",
       " u'leagueRank',\n",
       " u'leagueRecord.losses',\n",
       " u'leagueRecord.ot',\n",
       " u'leagueRecord.type',\n",
       " u'leagueRecord.wins',\n",
       " u'leagueRoadRank',\n",
       " u'points',\n",
       " u'row',\n",
       " u'streak.streakCode',\n",
       " u'streak.streakNumber',\n",
       " u'streak.streakType',\n",
       " u'team.id',\n",
       " u'team.link',\n",
       " u'team.name',\n",
       " u'wildCardRank']"
      ]
     },
     "execution_count": 96,
     "metadata": {},
     "output_type": "execute_result"
    }
   ],
   "source": [
    "list(df.columns.values)"
   ]
  },
  {
   "cell_type": "code",
   "execution_count": 97,
   "metadata": {},
   "outputs": [
    {
     "data": {
      "text/html": [
       "<div>\n",
       "<style scoped>\n",
       "    .dataframe tbody tr th:only-of-type {\n",
       "        vertical-align: middle;\n",
       "    }\n",
       "\n",
       "    .dataframe tbody tr th {\n",
       "        vertical-align: top;\n",
       "    }\n",
       "\n",
       "    .dataframe thead th {\n",
       "        text-align: right;\n",
       "    }\n",
       "</style>\n",
       "<table border=\"1\" class=\"dataframe\">\n",
       "  <thead>\n",
       "    <tr style=\"text-align: right;\">\n",
       "      <th></th>\n",
       "      <th>gamesPlayed</th>\n",
       "      <th>goalsAgainst</th>\n",
       "      <th>goalsScored</th>\n",
       "      <th>leagueRecord.losses</th>\n",
       "      <th>leagueRecord.ot</th>\n",
       "      <th>leagueRecord.wins</th>\n",
       "      <th>points</th>\n",
       "      <th>row</th>\n",
       "      <th>streak.streakNumber</th>\n",
       "      <th>team.id</th>\n",
       "    </tr>\n",
       "  </thead>\n",
       "  <tbody>\n",
       "    <tr>\n",
       "      <th>count</th>\n",
       "      <td>30.0</td>\n",
       "      <td>30.000000</td>\n",
       "      <td>30.000000</td>\n",
       "      <td>30.000000</td>\n",
       "      <td>30.000000</td>\n",
       "      <td>30.000000</td>\n",
       "      <td>30.000000</td>\n",
       "      <td>30.000000</td>\n",
       "      <td>30.000000</td>\n",
       "      <td>30.000000</td>\n",
       "    </tr>\n",
       "    <tr>\n",
       "      <th>mean</th>\n",
       "      <td>82.0</td>\n",
       "      <td>226.766667</td>\n",
       "      <td>226.766667</td>\n",
       "      <td>31.366667</td>\n",
       "      <td>9.633333</td>\n",
       "      <td>41.000000</td>\n",
       "      <td>91.633333</td>\n",
       "      <td>37.700000</td>\n",
       "      <td>2.166667</td>\n",
       "      <td>17.733333</td>\n",
       "    </tr>\n",
       "    <tr>\n",
       "      <th>std</th>\n",
       "      <td>0.0</td>\n",
       "      <td>22.335503</td>\n",
       "      <td>26.631176</td>\n",
       "      <td>7.627009</td>\n",
       "      <td>2.870580</td>\n",
       "      <td>7.777066</td>\n",
       "      <td>15.134986</td>\n",
       "      <td>8.188091</td>\n",
       "      <td>1.913353</td>\n",
       "      <td>12.708762</td>\n",
       "    </tr>\n",
       "    <tr>\n",
       "      <th>min</th>\n",
       "      <td>82.0</td>\n",
       "      <td>182.000000</td>\n",
       "      <td>166.000000</td>\n",
       "      <td>19.000000</td>\n",
       "      <td>4.000000</td>\n",
       "      <td>22.000000</td>\n",
       "      <td>48.000000</td>\n",
       "      <td>21.000000</td>\n",
       "      <td>1.000000</td>\n",
       "      <td>1.000000</td>\n",
       "    </tr>\n",
       "    <tr>\n",
       "      <th>25%</th>\n",
       "      <td>82.0</td>\n",
       "      <td>212.000000</td>\n",
       "      <td>210.500000</td>\n",
       "      <td>26.250000</td>\n",
       "      <td>8.000000</td>\n",
       "      <td>35.250000</td>\n",
       "      <td>82.250000</td>\n",
       "      <td>32.250000</td>\n",
       "      <td>1.000000</td>\n",
       "      <td>8.250000</td>\n",
       "    </tr>\n",
       "    <tr>\n",
       "      <th>50%</th>\n",
       "      <td>82.0</td>\n",
       "      <td>225.500000</td>\n",
       "      <td>226.000000</td>\n",
       "      <td>29.500000</td>\n",
       "      <td>9.500000</td>\n",
       "      <td>41.500000</td>\n",
       "      <td>94.000000</td>\n",
       "      <td>39.000000</td>\n",
       "      <td>1.000000</td>\n",
       "      <td>16.500000</td>\n",
       "    </tr>\n",
       "    <tr>\n",
       "      <th>75%</th>\n",
       "      <td>82.0</td>\n",
       "      <td>242.000000</td>\n",
       "      <td>246.250000</td>\n",
       "      <td>35.750000</td>\n",
       "      <td>11.750000</td>\n",
       "      <td>46.750000</td>\n",
       "      <td>102.750000</td>\n",
       "      <td>44.000000</td>\n",
       "      <td>3.000000</td>\n",
       "      <td>23.750000</td>\n",
       "    </tr>\n",
       "    <tr>\n",
       "      <th>max</th>\n",
       "      <td>82.0</td>\n",
       "      <td>278.000000</td>\n",
       "      <td>282.000000</td>\n",
       "      <td>56.000000</td>\n",
       "      <td>15.000000</td>\n",
       "      <td>55.000000</td>\n",
       "      <td>118.000000</td>\n",
       "      <td>53.000000</td>\n",
       "      <td>8.000000</td>\n",
       "      <td>53.000000</td>\n",
       "    </tr>\n",
       "  </tbody>\n",
       "</table>\n",
       "</div>"
      ],
      "text/plain": [
       "       gamesPlayed  goalsAgainst  goalsScored  leagueRecord.losses  \\\n",
       "count         30.0     30.000000    30.000000            30.000000   \n",
       "mean          82.0    226.766667   226.766667            31.366667   \n",
       "std            0.0     22.335503    26.631176             7.627009   \n",
       "min           82.0    182.000000   166.000000            19.000000   \n",
       "25%           82.0    212.000000   210.500000            26.250000   \n",
       "50%           82.0    225.500000   226.000000            29.500000   \n",
       "75%           82.0    242.000000   246.250000            35.750000   \n",
       "max           82.0    278.000000   282.000000            56.000000   \n",
       "\n",
       "       leagueRecord.ot  leagueRecord.wins      points        row  \\\n",
       "count        30.000000          30.000000   30.000000  30.000000   \n",
       "mean          9.633333          41.000000   91.633333  37.700000   \n",
       "std           2.870580           7.777066   15.134986   8.188091   \n",
       "min           4.000000          22.000000   48.000000  21.000000   \n",
       "25%           8.000000          35.250000   82.250000  32.250000   \n",
       "50%           9.500000          41.500000   94.000000  39.000000   \n",
       "75%          11.750000          46.750000  102.750000  44.000000   \n",
       "max          15.000000          55.000000  118.000000  53.000000   \n",
       "\n",
       "       streak.streakNumber    team.id  \n",
       "count            30.000000  30.000000  \n",
       "mean              2.166667  17.733333  \n",
       "std               1.913353  12.708762  \n",
       "min               1.000000   1.000000  \n",
       "25%               1.000000   8.250000  \n",
       "50%               1.000000  16.500000  \n",
       "75%               3.000000  23.750000  \n",
       "max               8.000000  53.000000  "
      ]
     },
     "execution_count": 97,
     "metadata": {},
     "output_type": "execute_result"
    }
   ],
   "source": [
    "df.describe()"
   ]
  },
  {
   "cell_type": "code",
   "execution_count": null,
   "metadata": {},
   "outputs": [],
   "source": []
  },
  {
   "cell_type": "code",
   "execution_count": null,
   "metadata": {},
   "outputs": [],
   "source": []
  }
 ],
 "metadata": {
  "kernelspec": {
   "display_name": "Python 2",
   "language": "python",
   "name": "python2"
  },
  "language_info": {
   "codemirror_mode": {
    "name": "ipython",
    "version": 2
   },
   "file_extension": ".py",
   "mimetype": "text/x-python",
   "name": "python",
   "nbconvert_exporter": "python",
   "pygments_lexer": "ipython2",
   "version": "2.7.16"
  }
 },
 "nbformat": 4,
 "nbformat_minor": 2
}
