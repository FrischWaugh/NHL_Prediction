{
 "cells": [
  {
   "cell_type": "code",
   "execution_count": 23,
   "metadata": {},
   "outputs": [],
   "source": [
    "# Import the important packages\n",
    "import pandas as pd\n",
    "\n",
    "pd.set_option('display.max_columns', None)"
   ]
  },
  {
   "cell_type": "code",
   "execution_count": 24,
   "metadata": {},
   "outputs": [],
   "source": [
    "# Load the raw data\n",
    "gamesdf = pd.read_csv('../../data/games.csv')"
   ]
  },
  {
   "cell_type": "code",
   "execution_count": 25,
   "metadata": {},
   "outputs": [
    {
     "data": {
      "text/plain": [
       "Index(['Unnamed: 0', 'away.teamStats.teamSkaterStats.blocked',\n",
       "       'away.teamStats.teamSkaterStats.faceOffWinPercentage',\n",
       "       'away.teamStats.teamSkaterStats.giveaways',\n",
       "       'away.teamStats.teamSkaterStats.goals',\n",
       "       'away.teamStats.teamSkaterStats.hits',\n",
       "       'away.teamStats.teamSkaterStats.pim',\n",
       "       'away.teamStats.teamSkaterStats.powerPlayGoals',\n",
       "       'away.teamStats.teamSkaterStats.powerPlayOpportunities',\n",
       "       'away.teamStats.teamSkaterStats.powerPlayPercentage',\n",
       "       'away.teamStats.teamSkaterStats.shots',\n",
       "       'away.teamStats.teamSkaterStats.takeaways', 'content.link', 'date',\n",
       "       'gameDate', 'gameID', 'gamePk', 'gameType',\n",
       "       'home.teamStats.teamSkaterStats.blocked',\n",
       "       'home.teamStats.teamSkaterStats.faceOffWinPercentage',\n",
       "       'home.teamStats.teamSkaterStats.giveaways',\n",
       "       'home.teamStats.teamSkaterStats.goals',\n",
       "       'home.teamStats.teamSkaterStats.hits',\n",
       "       'home.teamStats.teamSkaterStats.pim',\n",
       "       'home.teamStats.teamSkaterStats.powerPlayGoals',\n",
       "       'home.teamStats.teamSkaterStats.powerPlayOpportunities',\n",
       "       'home.teamStats.teamSkaterStats.powerPlayPercentage',\n",
       "       'home.teamStats.teamSkaterStats.shots',\n",
       "       'home.teamStats.teamSkaterStats.takeaways', 'link', 'season',\n",
       "       'status.abstractGameState', 'status.codedGameState',\n",
       "       'status.detailedState', 'status.startTimeTBD', 'status.statusCode',\n",
       "       'teams.away.leagueRecord.losses', 'teams.away.leagueRecord.ot',\n",
       "       'teams.away.leagueRecord.type', 'teams.away.leagueRecord.wins',\n",
       "       'teams.away.score', 'teams.away.team.id', 'teams.away.team.link',\n",
       "       'teams.away.team.name', 'teams.home.leagueRecord.losses',\n",
       "       'teams.home.leagueRecord.ot', 'teams.home.leagueRecord.type',\n",
       "       'teams.home.leagueRecord.wins', 'teams.home.score',\n",
       "       'teams.home.team.id', 'teams.home.team.link', 'teams.home.team.name',\n",
       "       'venue.id', 'venue.link', 'venue.name'],\n",
       "      dtype='object')"
      ]
     },
     "execution_count": 25,
     "metadata": {},
     "output_type": "execute_result"
    }
   ],
   "source": [
    "gamesdf.columns"
   ]
  },
  {
   "cell_type": "code",
   "execution_count": 26,
   "metadata": {},
   "outputs": [],
   "source": [
    "def create_lag(df, p, sortList, partList, lagList):\n",
    "    \"\"\"\n",
    "    Cette fonction prend comme intrant un df, une liste de variables pour lesquelles il faut\n",
    "    creer des valeurs retardees, le nombre de retard, les variables sur lesquelles il faut sort,\n",
    "    les variables de partition et la liste de varibles pour lesquelles on veut des valeurs retardees.\n",
    "    La fonction retourne un df augmente des variables retardees\n",
    "    \"\"\"\n",
    "    df = df.sort_values(by=sortList)\n",
    "    \n",
    "    for feature in lagList:\n",
    "        for i in range(p):\n",
    "            df['{}.L{}'.format(feature,i+1)] = df.groupby(partList)[feature].shift(i+1)\n",
    "    \n",
    "    return df"
   ]
  },
  {
   "cell_type": "code",
   "execution_count": 27,
   "metadata": {},
   "outputs": [],
   "source": [
    "# List des features\n",
    "\n",
    "features5L = ['away.teamStats.teamSkaterStats.blocked','away.teamStats.teamSkaterStats.faceOffWinPercentage',\n",
    "              'away.teamStats.teamSkaterStats.giveaways','away.teamStats.teamSkaterStats.goals',\n",
    "              'away.teamStats.teamSkaterStats.hits','away.teamStats.teamSkaterStats.pim',\n",
    "              'away.teamStats.teamSkaterStats.powerPlayGoals','away.teamStats.teamSkaterStats.powerPlayOpportunities',\n",
    "              'away.teamStats.teamSkaterStats.powerPlayPercentage','away.teamStats.teamSkaterStats.shots',\n",
    "              'away.teamStats.teamSkaterStats.takeaways','home.teamStats.teamSkaterStats.blocked',\n",
    "              'home.teamStats.teamSkaterStats.faceOffWinPercentage','home.teamStats.teamSkaterStats.giveaways',\n",
    "              'home.teamStats.teamSkaterStats.goals','home.teamStats.teamSkaterStats.hits',\n",
    "              'home.teamStats.teamSkaterStats.pim','home.teamStats.teamSkaterStats.powerPlayGoals',\n",
    "              'home.teamStats.teamSkaterStats.powerPlayOpportunities','home.teamStats.teamSkaterStats.powerPlayPercentage',\n",
    "              'home.teamStats.teamSkaterStats.shots','home.teamStats.teamSkaterStats.takeaways']\n",
    "\n",
    "features1L = ['teams.away.leagueRecord.losses','teams.away.leagueRecord.ot',\n",
    "              'teams.away.leagueRecord.wins','teams.home.leagueRecord.losses',\n",
    "              'teams.home.leagueRecord.ot','teams.home.leagueRecord.wins']\n",
    "\n",
    "#Variables date, saisons et equipes\n",
    "state_time = ['teams.home.team.name', 'season', 'gamePk']\n"
   ]
  },
  {
   "cell_type": "code",
   "execution_count": 28,
   "metadata": {},
   "outputs": [],
   "source": [
    "# Creation de la variable a predire -- home win\n",
    "gamesdf['game.homewin'] = (gamesdf['teams.home.score'] - gamesdf['teams.away.score']> 0).astype('int')"
   ]
  },
  {
   "cell_type": "code",
   "execution_count": 29,
   "metadata": {},
   "outputs": [],
   "source": [
    "gamesdf_ = gamesdf[['game.homewin'] + features5L + features1L + state_time]"
   ]
  },
  {
   "cell_type": "code",
   "execution_count": 30,
   "metadata": {},
   "outputs": [],
   "source": [
    "gamesdf_ = create_lag(df=gamesdf_,\n",
    "                      p=1,\n",
    "                      sortList=['teams.home.team.name', 'season', 'gamePk'],\n",
    "                      partList=['teams.home.team.name', 'season'],\n",
    "                      lagList=features1L)"
   ]
  },
  {
   "cell_type": "code",
   "execution_count": 31,
   "metadata": {},
   "outputs": [],
   "source": [
    "gamesdf_ = create_lag(df=gamesdf_,\n",
    "                      p=10,\n",
    "                      sortList=['teams.home.team.name', 'season', 'gamePk'],\n",
    "                      partList=['teams.home.team.name', 'season'],\n",
    "                      lagList=features5L)"
   ]
  },
  {
   "cell_type": "code",
   "execution_count": 32,
   "metadata": {},
   "outputs": [],
   "source": [
    "# Maintenant, on drop les variables qu'on utilisera pas pour predire....\n",
    "gamesdf_final = gamesdf_.drop(columns= state_time + features1L + features5L)\n"
   ]
  },
  {
   "cell_type": "code",
   "execution_count": 33,
   "metadata": {},
   "outputs": [],
   "source": [
    "# Export en csv..\n",
    "gamesdf_final.to_csv('../../data/model_input_v2.csv')"
   ]
  },
  {
   "cell_type": "code",
   "execution_count": null,
   "metadata": {},
   "outputs": [],
   "source": []
  }
 ],
 "metadata": {
  "kernelspec": {
   "display_name": "Python 3",
   "language": "python",
   "name": "python3"
  },
  "language_info": {
   "codemirror_mode": {
    "name": "ipython",
    "version": 3
   },
   "file_extension": ".py",
   "mimetype": "text/x-python",
   "name": "python",
   "nbconvert_exporter": "python",
   "pygments_lexer": "ipython3",
   "version": "3.7.6"
  }
 },
 "nbformat": 4,
 "nbformat_minor": 4
}
