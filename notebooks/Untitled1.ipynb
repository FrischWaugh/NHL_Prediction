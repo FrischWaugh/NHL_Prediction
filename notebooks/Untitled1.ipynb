{
 "cells": [
  {
   "cell_type": "code",
   "execution_count": null,
   "metadata": {},
   "outputs": [],
   "source": [
    "def extract_teams(request):\n",
    "    \"\"\"replace the teams table in Big Query by up to date table from the NHL API.\n",
    "    Args:\n",
    "        none.\n",
    "    Returns:\n",
    "        \n",
    "    \"\"\"\n",
    "\n",
    "    import pandas as pd\n",
    "    import requests  \n",
    "    from pandas.io.json import json_normalize\n",
    "    from \n",
    "\n",
    "    url = 'https://statsapi.web.nhl.com/api/v1/teams'\n",
    "    r = requests.get(url)\n",
    "    json_data = r.json()\n",
    "    teams = json_normalize(json_data['teams'], sep = \"_\")\n",
    "\n",
    "    teams.to_csv('../../data/teams.csv')"
   ]
  }
 ],
 "metadata": {
  "kernelspec": {
   "display_name": "Python 3",
   "language": "python",
   "name": "python3"
  },
  "language_info": {
   "codemirror_mode": {
    "name": "ipython",
    "version": 3
   },
   "file_extension": ".py",
   "mimetype": "text/x-python",
   "name": "python",
   "nbconvert_exporter": "python",
   "pygments_lexer": "ipython3",
   "version": "3.8.3"
  }
 },
 "nbformat": 4,
 "nbformat_minor": 4
}
