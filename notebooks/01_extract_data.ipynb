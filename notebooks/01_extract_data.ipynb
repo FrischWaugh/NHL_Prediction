{
 "cells": [
  {
   "cell_type": "markdown",
   "metadata": {},
   "source": [
    "Sources\n",
    "\n",
    "#### Projet End-to-End (Pas NHL API)\n",
    "https://medium.com/coinmonks/4-718-using-machine-learning-to-bet-on-the-nhl-25d16649cd52\n",
    "\n",
    "#### Projet Live Feed (NHL API)\n",
    "##### Utilise le live feed pour shot sur gardien\n",
    "https://towardsdatascience.com/nhl-analytics-with-python-6390c5d3206d\n",
    "\n",
    "#### Docu NHL API\n",
    "https://github.com/dword4/nhlapi\n",
    "\n",
    "Ancienne Doc:\n",
    "https://webcache.googleusercontent.com/search?q=cache:ILYmzDuxW70J:https://github.com/dword4/nhlapi+&cd=1&hl=en&ct=clnk&gl=ca"
   ]
  },
  {
   "cell_type": "code",
   "execution_count": 36,
   "metadata": {},
   "outputs": [],
   "source": [
    "# Check Python Version\n",
    "from platform import python_version\n",
    "import pandas as pd\n",
    "import requests  \n",
    "from pandas.io.json import json_normalize\n",
    "import datetime\n",
    "\n",
    "pd.set_option('display.max_columns', None)\n",
    "\n",
    "#print(pd.show_versions())"
   ]
  },
  {
   "cell_type": "code",
   "execution_count": 43,
   "metadata": {},
   "outputs": [],
   "source": [
    "def extract_gamestats(gameID):\n",
    "    \n",
    "    '''\n",
    "    This function takes the gameID as an input and returns a dataframe that contains\n",
    "    the teamSkaterStats info for the home/away teams for that specific game.\n",
    "    '''\n",
    "    \n",
    "    r = requests.get(url='https://statsapi.web.nhl.com/api/v1/game/{}/boxscore'.format(gameID))\n",
    "    data = r.json()\n",
    "    df = pd.json_normalize(data = data['teams'])\n",
    "    df = df.filter(regex='teamSkaterStats')\n",
    "    df['gameID'] = gameID\n",
    "    \n",
    "    return df"
   ]
  },
  {
   "cell_type": "markdown",
   "metadata": {},
   "source": [
    "### import game data"
   ]
  },
  {
   "cell_type": "code",
   "execution_count": null,
   "metadata": {
    "scrolled": true
   },
   "outputs": [],
   "source": [
    "start_date = datetime.date(2018, 4, 21)\n",
    "end_date = datetime.date(2019, 4, 23)\n",
    "delta = datetime.timedelta(days=1)\n",
    "\n",
    "data_list = []\n",
    "\n",
    "while start_date <= end_date:\n",
    "    \n",
    "    r = requests.get(url='https://statsapi.web.nhl.com/api/v1/schedule?date=' + start_date.strftime(\"%Y-%m-%d\"))\n",
    "    data = r.json()\n",
    "    \n",
    "    df = pd.json_normalize(data = data['dates'], record_path='games', meta=['date'])\n",
    "    \n",
    "    # On ajoute des statistiques au niveau des matchs\n",
    "    # Le if sert a skipper les journees sans matchs\n",
    "    if df.empty==False :\n",
    "        pd_list = []\n",
    "        for games in df['gamePk']:\n",
    "            tmp = extract_gamestats(gameID=games)\n",
    "            pd_list.append(tmp)\n",
    "\n",
    "        pd_tmp = pd.concat(pd_list, sort='False', ignore_index=True)\n",
    "        df = df.merge(pd_tmp, left_on='gamePk', right_on='gameID', how='left')\n",
    "\n",
    "        data_list.append(df)\n",
    "        \n",
    "        start_date += delta\n",
    "    else:\n",
    "        start_date += delta"
   ]
  },
  {
   "cell_type": "code",
   "execution_count": 50,
   "metadata": {},
   "outputs": [],
   "source": [
    "df = pd.concat(data_list, sort='False', ignore_index=True)\n",
    "df.to_csv('../../data/games.csv')"
   ]
  },
  {
   "cell_type": "code",
   "execution_count": null,
   "metadata": {},
   "outputs": [],
   "source": []
  },
  {
   "cell_type": "markdown",
   "metadata": {},
   "source": [
    "### Import teams data"
   ]
  },
  {
   "cell_type": "code",
   "execution_count": 12,
   "metadata": {},
   "outputs": [
    {
     "name": "stderr",
     "output_type": "stream",
     "text": [
      "C:\\Users\\athompson-leduc\\AppData\\Local\\Continuum\\anaconda3\\lib\\site-packages\\ipykernel_launcher.py:4: FutureWarning: pandas.io.json.json_normalize is deprecated, use pandas.json_normalize instead\n",
      "  after removing the cwd from sys.path.\n"
     ]
    }
   ],
   "source": [
    "url = 'https://statsapi.web.nhl.com/api/v1/teams'\n",
    "r = requests.get(url)\n",
    "json_data = r.json()\n",
    "teams = json_normalize(json_data['teams'], sep = \"_\")\n",
    "\n",
    "teams.to_csv('../../data/teams.csv')"
   ]
  },
  {
   "cell_type": "code",
   "execution_count": 21,
   "metadata": {},
   "outputs": [],
   "source": []
  },
  {
   "cell_type": "code",
   "execution_count": null,
   "metadata": {},
   "outputs": [],
   "source": []
  },
  {
   "cell_type": "code",
   "execution_count": null,
   "metadata": {},
   "outputs": [],
   "source": []
  },
  {
   "cell_type": "code",
   "execution_count": null,
   "metadata": {},
   "outputs": [],
   "source": []
  }
 ],
 "metadata": {
  "kernelspec": {
   "display_name": "Python 3",
   "language": "python",
   "name": "python3"
  },
  "language_info": {
   "codemirror_mode": {
    "name": "ipython",
    "version": 3
   },
   "file_extension": ".py",
   "mimetype": "text/x-python",
   "name": "python",
   "nbconvert_exporter": "python",
   "pygments_lexer": "ipython3",
   "version": "3.7.6"
  }
 },
 "nbformat": 4,
 "nbformat_minor": 2
}
