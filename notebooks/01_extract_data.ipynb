{
 "cells": [
  {
   "cell_type": "markdown",
   "metadata": {},
   "source": [
    "Sources\n",
    "\n",
    "#### Projet End-to-End (Pas NHL API)\n",
    "https://medium.com/coinmonks/4-718-using-machine-learning-to-bet-on-the-nhl-25d16649cd52\n",
    "\n",
    "#### Projet Live Feed (NHL API)\n",
    "##### Utilise le live feed pour shot sur gardien\n",
    "https://towardsdatascience.com/nhl-analytics-with-python-6390c5d3206d\n",
    "\n",
    "#### Docu NHL API\n",
    "https://github.com/dword4/nhlapi\n",
    "\n",
    "Ancienne Doc:\n",
    "https://webcache.googleusercontent.com/search?q=cache:ILYmzDuxW70J:https://github.com/dword4/nhlapi+&cd=1&hl=en&ct=clnk&gl=ca"
   ]
  },
  {
   "cell_type": "code",
   "execution_count": 16,
   "metadata": {},
   "outputs": [
    {
     "name": "stdout",
     "output_type": "stream",
     "text": [
      "\n",
      "INSTALLED VERSIONS\n",
      "------------------\n",
      "commit           : None\n",
      "python           : 3.6.5.final.0\n",
      "python-bits      : 64\n",
      "OS               : Windows\n",
      "OS-release       : 10\n",
      "machine          : AMD64\n",
      "processor        : Intel64 Family 6 Model 142 Stepping 10, GenuineIntel\n",
      "byteorder        : little\n",
      "LC_ALL           : None\n",
      "LANG             : None\n",
      "LOCALE           : None.None\n",
      "\n",
      "pandas           : 1.0.1\n",
      "numpy            : 1.17.2\n",
      "pytz             : 2019.3\n",
      "dateutil         : 2.8.0\n",
      "pip              : 19.3.1\n",
      "setuptools       : 41.6.0.post20191030\n",
      "Cython           : None\n",
      "pytest           : None\n",
      "hypothesis       : None\n",
      "sphinx           : None\n",
      "blosc            : None\n",
      "feather          : None\n",
      "xlsxwriter       : None\n",
      "lxml.etree       : None\n",
      "html5lib         : None\n",
      "pymysql          : None\n",
      "psycopg2         : None\n",
      "jinja2           : 2.10.3\n",
      "IPython          : 7.9.0\n",
      "pandas_datareader: None\n",
      "bs4              : 4.8.1\n",
      "bottleneck       : None\n",
      "fastparquet      : None\n",
      "gcsfs            : None\n",
      "lxml.etree       : None\n",
      "matplotlib       : 3.2.0\n",
      "numexpr          : None\n",
      "odfpy            : None\n",
      "openpyxl         : None\n",
      "pandas_gbq       : None\n",
      "pyarrow          : None\n",
      "pytables         : None\n",
      "pytest           : None\n",
      "pyxlsb           : None\n",
      "s3fs             : None\n",
      "scipy            : 1.3.1\n",
      "sqlalchemy       : None\n",
      "tables           : None\n",
      "tabulate         : None\n",
      "xarray           : None\n",
      "xlrd             : None\n",
      "xlwt             : None\n",
      "xlsxwriter       : None\n",
      "numba            : None\n",
      "None\n"
     ]
    }
   ],
   "source": [
    "# Check Python Version\n",
    "from platform import python_version\n",
    "import pandas as pd\n",
    "import requests  \n",
    "from pandas.io.json import json_normalize\n",
    "import datetime\n",
    "\n",
    "pd.set_option('display.max_columns', None)\n",
    "\n",
    "print(pd.show_versions())"
   ]
  },
  {
   "cell_type": "markdown",
   "metadata": {},
   "source": [
    "### import game data"
   ]
  },
  {
   "cell_type": "code",
   "execution_count": 10,
   "metadata": {},
   "outputs": [],
   "source": [
    "start_date = datetime.date(2019, 3, 1)\n",
    "end_date = datetime.date(2019, 3, 31)\n",
    "delta = datetime.timedelta(days=1)\n",
    "\n",
    "data_list = []\n",
    "\n",
    "while start_date <= end_date:\n",
    "    \n",
    "    r = requests.get(url='https://statsapi.web.nhl.com/api/v1/schedule?date=' + start_date.strftime(\"%Y-%m-%d\"))\n",
    "    data = r.json()\n",
    "    \n",
    "    df = pd.json_normalize(data = data['dates'], record_path='games', meta=['date'])\n",
    "    \n",
    "    data_list.append(df)\n",
    "        \n",
    "    start_date += delta"
   ]
  },
  {
   "cell_type": "code",
   "execution_count": 11,
   "metadata": {},
   "outputs": [],
   "source": [
    "df = pd.concat(data_list, sort='False', ignore_index=True)\n",
    "\n",
    "df.to_csv('../../data/games.csv')"
   ]
  },
  {
   "cell_type": "markdown",
   "metadata": {},
   "source": [
    "### Import teams data"
   ]
  },
  {
   "cell_type": "code",
   "execution_count": 12,
   "metadata": {},
   "outputs": [
    {
     "name": "stderr",
     "output_type": "stream",
     "text": [
      "C:\\Users\\athompson-leduc\\AppData\\Local\\Continuum\\anaconda3\\lib\\site-packages\\ipykernel_launcher.py:4: FutureWarning: pandas.io.json.json_normalize is deprecated, use pandas.json_normalize instead\n",
      "  after removing the cwd from sys.path.\n"
     ]
    }
   ],
   "source": [
    "url = 'https://statsapi.web.nhl.com/api/v1/teams'\n",
    "r = requests.get(url)\n",
    "json_data = r.json()\n",
    "teams = json_normalize(json_data['teams'], sep = \"_\")\n",
    "\n",
    "teams.to_csv('../../data/teams.csv')"
   ]
  },
  {
   "cell_type": "code",
   "execution_count": null,
   "metadata": {},
   "outputs": [],
   "source": []
  }
 ],
 "metadata": {
  "kernelspec": {
   "display_name": "Python 3",
   "language": "python",
   "name": "python3"
  },
  "language_info": {
   "codemirror_mode": {
    "name": "ipython",
    "version": 3
   },
   "file_extension": ".py",
   "mimetype": "text/x-python",
   "name": "python",
   "nbconvert_exporter": "python",
   "pygments_lexer": "ipython3",
   "version": "3.6.5"
  }
 },
 "nbformat": 4,
 "nbformat_minor": 2
}
