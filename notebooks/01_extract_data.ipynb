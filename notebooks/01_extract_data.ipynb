{
 "cells": [
  {
   "cell_type": "markdown",
   "metadata": {},
   "source": [
    "Sources\n",
    "\n",
    "#### Projet End-to-End (Pas NHL API)\n",
    "https://medium.com/coinmonks/4-718-using-machine-learning-to-bet-on-the-nhl-25d16649cd52\n",
    "\n",
    "#### Projet Live Feed (NHL API)\n",
    "##### Utilise le live feed pour shot sur gardien\n",
    "https://towardsdatascience.com/nhl-analytics-with-python-6390c5d3206d\n",
    "\n",
    "#### Docu NHL API\n",
    "https://github.com/dword4/nhlapi\n",
    "\n",
    "Ancienne Doc:\n",
    "https://webcache.googleusercontent.com/search?q=cache:ILYmzDuxW70J:https://github.com/dword4/nhlapi+&cd=1&hl=en&ct=clnk&gl=ca"
   ]
  },
  {
   "cell_type": "code",
   "execution_count": 1,
   "metadata": {},
   "outputs": [
    {
     "name": "stdout",
     "output_type": "stream",
     "text": [
      "3.6.5\n"
     ]
    }
   ],
   "source": [
    "# Check Python Version\n",
    "from platform import python_version\n",
    "import pandas as pd\n",
    "import requests  \n",
    "from pandas.io.json import json_normalize\n",
    "import datetime\n",
    "\n",
    "pd.set_option('display.max_columns', None)\n",
    "\n",
    "print(python_version())"
   ]
  },
  {
   "cell_type": "markdown",
   "metadata": {},
   "source": [
    "### import game data"
   ]
  },
  {
   "cell_type": "code",
   "execution_count": 2,
   "metadata": {},
   "outputs": [],
   "source": [
    "start_date = datetime.date(2007, 10, 1)\n",
    "end_date = datetime.date(2019, 3, 31)\n",
    "delta = datetime.timedelta(days=1)\n",
    "\n",
    "data_list = []\n",
    "\n",
    "while start_date <= end_date:\n",
    "    \n",
    "    r = requests.get(url='https://statsapi.web.nhl.com/api/v1/schedule?date=' + start_date.strftime(\"%Y-%m-%d\"))\n",
    "    data = r.json()\n",
    "    \n",
    "    df = json_normalize(data = data['dates'], record_path='games', meta=['date', 'totalGames'])\n",
    "    \n",
    "    data_list.append(df)\n",
    "        \n",
    "    start_date += delta"
   ]
  },
  {
   "cell_type": "code",
   "execution_count": 4,
   "metadata": {},
   "outputs": [],
   "source": [
    "df = pd.concat(data_list, sort='False', ignore_index=True)\n",
    "\n",
    "df.to_csv('../../data/games.csv')"
   ]
  },
  {
   "cell_type": "markdown",
   "metadata": {},
   "source": [
    "### Import teams data"
   ]
  },
  {
   "cell_type": "code",
   "execution_count": 5,
   "metadata": {},
   "outputs": [],
   "source": [
    "url = 'https://statsapi.web.nhl.com/api/v1/teams'\n",
    "r = requests.get(url)\n",
    "json_data = r.json()\n",
    "teams = json_normalize(json_data['teams'], sep = \"_\")\n",
    "\n",
    "teams.to_csv('../../data/teams.csv')"
   ]
  },
  {
   "cell_type": "code",
   "execution_count": null,
   "metadata": {},
   "outputs": [],
   "source": []
  }
 ],
 "metadata": {
  "kernelspec": {
   "display_name": "Python 3",
   "language": "python",
   "name": "python3"
  },
  "language_info": {
   "codemirror_mode": {
    "name": "ipython",
    "version": 3
   },
   "file_extension": ".py",
   "mimetype": "text/x-python",
   "name": "python",
   "nbconvert_exporter": "python",
   "pygments_lexer": "ipython3",
   "version": "3.6.5"
  }
 },
 "nbformat": 4,
 "nbformat_minor": 2
}
