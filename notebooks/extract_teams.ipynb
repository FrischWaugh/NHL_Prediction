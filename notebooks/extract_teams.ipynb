{
 "cells": [
  {
   "cell_type": "markdown",
   "metadata": {},
   "source": [
    "## Programme pour creer la table teams"
   ]
  },
  {
   "cell_type": "code",
   "execution_count": 51,
   "metadata": {},
   "outputs": [],
   "source": [
    "# Import des librairies\n",
    "import pandas as pd\n",
    "import requests\n",
    "import pandas_gbq\n",
    "import getpass\n",
    "from google.oauth2 import service_account\n",
    "pd.set_option('display.max_columns', None)"
   ]
  },
  {
   "cell_type": "code",
   "execution_count": 52,
   "metadata": {},
   "outputs": [],
   "source": [
    "# On va chercher les equipes\n",
    "url = 'https://statsapi.web.nhl.com/api/v1/teams'\n",
    "r = requests.get(url)\n",
    "json_data = r.json()\n",
    "teams = pd.json_normalize(json_data['teams'], sep = \"_\")"
   ]
  },
  {
   "cell_type": "code",
   "execution_count": 53,
   "metadata": {},
   "outputs": [],
   "source": [
    "# On garde seulement les colonnes interessantes\n",
    "teams = teams[['id', 'abbreviation', 'teamName', 'locationName','officialSiteUrl', 'active', 'venue_name', 'venue_city']]\n",
    "\n",
    "# On renomme pour avoir des noms coherents avec ce qui se trouve dans la BD\n",
    "teams = teams.rename(columns={'id': 'team_id',\n",
    "                              'abbreviation': 'abbreviation',\n",
    "                              'teamName': 'team_name',\n",
    "                              'locationName': 'team_city',\n",
    "                              'officialSiteUrl': 'website_url',\n",
    "                              'active': 'is_active',\n",
    "                              'venue_name': 'venue_name',\n",
    "                              'venue_city': 'venue_city'\n",
    "                             })"
   ]
  },
  {
   "cell_type": "code",
   "execution_count": 54,
   "metadata": {},
   "outputs": [
    {
     "data": {
      "text/html": [
       "<div>\n",
       "<style scoped>\n",
       "    .dataframe tbody tr th:only-of-type {\n",
       "        vertical-align: middle;\n",
       "    }\n",
       "\n",
       "    .dataframe tbody tr th {\n",
       "        vertical-align: top;\n",
       "    }\n",
       "\n",
       "    .dataframe thead th {\n",
       "        text-align: right;\n",
       "    }\n",
       "</style>\n",
       "<table border=\"1\" class=\"dataframe\">\n",
       "  <thead>\n",
       "    <tr style=\"text-align: right;\">\n",
       "      <th></th>\n",
       "      <th>team_id</th>\n",
       "      <th>abbreviation</th>\n",
       "      <th>team_name</th>\n",
       "      <th>team_city</th>\n",
       "      <th>website_url</th>\n",
       "      <th>is_active</th>\n",
       "      <th>venue_name</th>\n",
       "      <th>venue_city</th>\n",
       "    </tr>\n",
       "  </thead>\n",
       "  <tbody>\n",
       "    <tr>\n",
       "      <th>0</th>\n",
       "      <td>1</td>\n",
       "      <td>NJD</td>\n",
       "      <td>Devils</td>\n",
       "      <td>New Jersey</td>\n",
       "      <td>http://www.newjerseydevils.com/</td>\n",
       "      <td>True</td>\n",
       "      <td>Prudential Center</td>\n",
       "      <td>Newark</td>\n",
       "    </tr>\n",
       "    <tr>\n",
       "      <th>1</th>\n",
       "      <td>2</td>\n",
       "      <td>NYI</td>\n",
       "      <td>Islanders</td>\n",
       "      <td>New York</td>\n",
       "      <td>http://www.newyorkislanders.com/</td>\n",
       "      <td>True</td>\n",
       "      <td>Nassau Veterans Memorial Coliseum</td>\n",
       "      <td>Uniondale</td>\n",
       "    </tr>\n",
       "    <tr>\n",
       "      <th>2</th>\n",
       "      <td>3</td>\n",
       "      <td>NYR</td>\n",
       "      <td>Rangers</td>\n",
       "      <td>New York</td>\n",
       "      <td>http://www.newyorkrangers.com/</td>\n",
       "      <td>True</td>\n",
       "      <td>Madison Square Garden</td>\n",
       "      <td>New York</td>\n",
       "    </tr>\n",
       "    <tr>\n",
       "      <th>3</th>\n",
       "      <td>4</td>\n",
       "      <td>PHI</td>\n",
       "      <td>Flyers</td>\n",
       "      <td>Philadelphia</td>\n",
       "      <td>http://www.philadelphiaflyers.com/</td>\n",
       "      <td>True</td>\n",
       "      <td>Wells Fargo Center</td>\n",
       "      <td>Philadelphia</td>\n",
       "    </tr>\n",
       "    <tr>\n",
       "      <th>4</th>\n",
       "      <td>5</td>\n",
       "      <td>PIT</td>\n",
       "      <td>Penguins</td>\n",
       "      <td>Pittsburgh</td>\n",
       "      <td>http://pittsburghpenguins.com/</td>\n",
       "      <td>True</td>\n",
       "      <td>PPG Paints Arena</td>\n",
       "      <td>Pittsburgh</td>\n",
       "    </tr>\n",
       "  </tbody>\n",
       "</table>\n",
       "</div>"
      ],
      "text/plain": [
       "   team_id abbreviation  team_name     team_city  \\\n",
       "0        1          NJD     Devils    New Jersey   \n",
       "1        2          NYI  Islanders      New York   \n",
       "2        3          NYR    Rangers      New York   \n",
       "3        4          PHI     Flyers  Philadelphia   \n",
       "4        5          PIT   Penguins    Pittsburgh   \n",
       "\n",
       "                          website_url  is_active  \\\n",
       "0     http://www.newjerseydevils.com/       True   \n",
       "1    http://www.newyorkislanders.com/       True   \n",
       "2      http://www.newyorkrangers.com/       True   \n",
       "3  http://www.philadelphiaflyers.com/       True   \n",
       "4      http://pittsburghpenguins.com/       True   \n",
       "\n",
       "                          venue_name    venue_city  \n",
       "0                  Prudential Center        Newark  \n",
       "1  Nassau Veterans Memorial Coliseum     Uniondale  \n",
       "2              Madison Square Garden      New York  \n",
       "3                 Wells Fargo Center  Philadelphia  \n",
       "4                   PPG Paints Arena    Pittsburgh  "
      ]
     },
     "execution_count": 54,
     "metadata": {},
     "output_type": "execute_result"
    }
   ],
   "source": [
    "teams.head()"
   ]
  },
  {
   "cell_type": "code",
   "execution_count": 55,
   "metadata": {},
   "outputs": [],
   "source": [
    "def get_keys():\n",
    "    '''\n",
    "    This function will return the path to Google Keys for each user.\n",
    "    '''\n",
    "    if getpass.getuser()=='antoinetl':\n",
    "        credential_keys = '/Users/antoinetl/Documents/code/Google Keys/My First Project-4938b2ab0dc6.json'\n",
    "    elif getpass.getuser()=='philippejacques':\n",
    "        credential_keys = '/Users/philippejacques/Desktop/Projet/HockeyPrediction/Google Keys/hockey-prediction-qc-b427ad188c20.json'\n",
    "    return credential_keys"
   ]
  },
  {
   "cell_type": "code",
   "execution_count": 56,
   "metadata": {},
   "outputs": [],
   "source": [
    "# Connexion GBQ\n",
    "credential_keys = get_keys()\n",
    "\n",
    "# Connexion GBQ\n",
    "credentials = service_account.Credentials.from_service_account_file(\n",
    "    credential_keys,\n",
    "    )\n",
    "pandas_gbq.context.credentials = credentials"
   ]
  },
  {
   "cell_type": "code",
   "execution_count": 57,
   "metadata": {},
   "outputs": [
    {
     "name": "stderr",
     "output_type": "stream",
     "text": [
      "1it [00:03,  3.99s/it]\n"
     ]
    }
   ],
   "source": [
    "# GCP project ID.\n",
    "project_id = \"hockey-prediction-qc\"\n",
    "\n",
    "# table_id that corresponds to the name of the table.\n",
    "table_id = 'hockey_prediction_qc.teams'\n",
    "\n",
    "# Insert into GCP\n",
    "pandas_gbq.to_gbq(teams,\n",
    "                  table_id,\n",
    "                  project_id=project_id,\n",
    "                  if_exists='replace')"
   ]
  }
 ],
 "metadata": {
  "kernelspec": {
   "display_name": "Python 3",
   "language": "python",
   "name": "python3"
  },
  "language_info": {
   "codemirror_mode": {
    "name": "ipython",
    "version": 3
   },
   "file_extension": ".py",
   "mimetype": "text/x-python",
   "name": "python",
   "nbconvert_exporter": "python",
   "pygments_lexer": "ipython3",
   "version": "3.8.5"
  }
 },
 "nbformat": 4,
 "nbformat_minor": 2
}
