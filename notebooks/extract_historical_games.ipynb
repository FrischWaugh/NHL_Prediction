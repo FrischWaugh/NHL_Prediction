{
 "cells": [
  {
   "cell_type": "markdown",
   "metadata": {},
   "source": [
    "### Ce programme sert a creer la tables historical_games et historical_games_details en format csv qui pourra par la suite etre manuellement chargee dans GCP."
   ]
  },
  {
   "cell_type": "code",
   "execution_count": 1,
   "metadata": {},
   "outputs": [],
   "source": [
    "import requests\n",
    "import simplejson as json\n",
    "from datetime import date, timedelta\n",
    "import datetime\n",
    "import sys"
   ]
  },
  {
   "cell_type": "code",
   "execution_count": 2,
   "metadata": {},
   "outputs": [],
   "source": [
    "def get_schedule(date):\n",
    "    response = requests.get('https://statsapi.web.nhl.com/api/v1/schedule?date={}'.format(date))\n",
    "    return response.json()\n",
    "\n",
    "def fetch_and_write(date):\n",
    "    hockey = get_schedule(date)\n",
    "    if hockey['totalItems'] != 0:\n",
    "        hockey = hockey['dates'][0]['games']\n",
    "        game_list = []\n",
    "        for games in hockey:\n",
    "            game_id = str(games['gamePk'])\n",
    "            game_date = str(games['gameDate'][0:10])\n",
    "            game_type = games['gameType']\n",
    "            season = str(games['season'])\n",
    "            for team in games['teams']:\n",
    "                if team=='home':\n",
    "                    home_away=str(1)\n",
    "                else:\n",
    "                    home_away=str(0)\n",
    "                team_id = str(games['teams'][team]['team']['id'])\n",
    "                team_score = str(games['teams'][team]['score'])\n",
    "                string = game_id + ',' + game_date + ',' + game_type + ',' + season + ',' + home_away + ',' + team_id + ',' + team_score\n",
    "                game_list.append(string)\n",
    "\n",
    "        print('\\n'.join(game_list))\n",
    "    return"
   ]
  },
  {
   "cell_type": "code",
   "execution_count": 3,
   "metadata": {},
   "outputs": [],
   "source": [
    "sys.stdout = open('historical-games-20080601-20200801', 'w')\n",
    "\n",
    "start_date = datetime.date(2016, 9, 30)\n",
    "end_date = datetime.date(2020, 8, 1)\n",
    "\n",
    "delta = datetime.timedelta(days=1)\n",
    "\n",
    "while start_date <= end_date:\n",
    "    extract = fetch_and_write(start_date.strftime(\"%Y-%m-%d\"))\n",
    "    start_date += delta"
   ]
  },
  {
   "cell_type": "code",
   "execution_count": null,
   "metadata": {},
   "outputs": [],
   "source": []
  }
 ],
 "metadata": {
  "kernelspec": {
   "display_name": "Python 3",
   "language": "python",
   "name": "python3"
  },
  "language_info": {
   "codemirror_mode": {
    "name": "ipython",
    "version": 3
   },
   "file_extension": ".py",
   "mimetype": "text/x-python",
   "name": "python",
   "nbconvert_exporter": "python",
   "pygments_lexer": "ipython3",
   "version": "3.8.3"
  }
 },
 "nbformat": 4,
 "nbformat_minor": 4
}
